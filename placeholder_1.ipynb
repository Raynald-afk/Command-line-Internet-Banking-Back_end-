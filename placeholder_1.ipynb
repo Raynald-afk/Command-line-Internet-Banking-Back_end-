{
 "cells": [
  {
   "cell_type": "code",
   "execution_count": null,
   "metadata": {},
   "outputs": [],
   "source": [
    "from collections import namedtuple\n",
    "info  =  {}\n",
    "name = namedtuple(\"Grades\",\"account_number pin\")\n",
    "information = name(\"200029992999\",\"8976\")\n",
    "info[\"Raynald\"] = information\n",
    "print(info[\"Raynald\"].account_number)"
   ]
  },
  {
   "cell_type": "code",
   "execution_count": 3,
   "metadata": {},
   "outputs": [],
   "source": [
    "from BankingSystem import Account\n",
    "import pickle\n",
    "trader = Account(\"Raynald\",\"2233435534\")\n",
    "with open(\"main.dat\",\"wb\") as file:\n",
    "    pickle.dump(trader,file)\n",
    "\n"
   ]
  },
  {
   "cell_type": "code",
   "execution_count": 12,
   "metadata": {},
   "outputs": [
    {
     "name": "stdout",
     "output_type": "stream",
     "text": [
      "The amount in your account is $11,000\n",
      "None\n"
     ]
    }
   ],
   "source": [
    "import pickle\n",
    "new = {}\n",
    "with open(\"main.dat\",\"rb\")as file:\n",
    "    info = pickle.load(file)\n",
    "info = Account(\"Raynald\",\"133434343\")\n",
    "new[\"bank\"] = info\n",
    "print(new[\"bank\"].check_balance())"
   ]
  },
  {
   "cell_type": "code",
   "execution_count": 26,
   "metadata": {},
   "outputs": [
    {
     "name": "stdout",
     "output_type": "stream",
     "text": [
      "3490232232\n"
     ]
    }
   ],
   "source": [
    "name = {\"Raynald Osei\": [[\"Raynald\", \"Osei\", \"32/08/39\", \"Patasi \", \"3490232232\"], \"100610072005\", \"4956\"],\"Mason\" :\"1000\"}\n",
    "info = \"Raynald\"\n",
    "for key, value in name.items():\n",
    "    if \"Raynald\" in key:\n",
    "        f,s,d,a,c =value[0]\n",
    "print(c)"
   ]
  },
  {
   "cell_type": "code",
   "execution_count": 19,
   "metadata": {},
   "outputs": [
    {
     "name": "stdout",
     "output_type": "stream",
     "text": [
      "255\n"
     ]
    }
   ],
   "source": []
  }
 ],
 "metadata": {
  "interpreter": {
   "hash": "a45b66f44c53dc6c964faf266163399204cbb827c75aa3530e9e83af356528ac"
  },
  "kernelspec": {
   "display_name": "Python 3.10.2 64-bit (windows store)",
   "language": "python",
   "name": "python3"
  },
  "language_info": {
   "codemirror_mode": {
    "name": "ipython",
    "version": 3
   },
   "file_extension": ".py",
   "mimetype": "text/x-python",
   "name": "python",
   "nbconvert_exporter": "python",
   "pygments_lexer": "ipython3",
   "version": "3.10.2"
  },
  "orig_nbformat": 4
 },
 "nbformat": 4,
 "nbformat_minor": 2
}
